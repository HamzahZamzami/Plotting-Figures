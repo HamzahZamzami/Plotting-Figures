{
  "nbformat": 4,
  "nbformat_minor": 0,
  "metadata": {
    "colab": {
      "provenance": [],
      "authorship_tag": "ABX9TyNfRUGysdk53LyyB9OnO5qF",
      "include_colab_link": true
    },
    "kernelspec": {
      "name": "python3",
      "display_name": "Python 3"
    },
    "language_info": {
      "name": "python"
    }
  },
  "cells": [
    {
      "cell_type": "markdown",
      "metadata": {
        "id": "view-in-github",
        "colab_type": "text"
      },
      "source": [
        "<a href=\"https://colab.research.google.com/github/HamzahZamzami/Plotting-Figures/blob/main/25023040_Tugas_1_SI5102_Komputasi_Teknik_Sipil.ipynb\" target=\"_parent\"><img src=\"https://colab.research.google.com/assets/colab-badge.svg\" alt=\"Open In Colab\"/></a>"
      ]
    },
    {
      "cell_type": "code",
      "execution_count": 5,
      "metadata": {
        "colab": {
          "base_uri": "https://localhost:8080/"
        },
        "id": "rSYjutbYc5Cd",
        "outputId": "a08858dd-e70f-4ac2-e6fe-954ac58fdef7"
      },
      "outputs": [
        {
          "output_type": "stream",
          "name": "stdout",
          "text": [
            "Masukkan nilai massa tanah (kg): 2.29\n",
            "Masukkan nilai massa kering tanah (kg): 2.035\n",
            "Masukkan besar Volume tanah (m3): 0.00115\n",
            "Masukkan nilai Specific gravity: 2.68\n",
            "Masukkan asumsi nilai percepatan gravitasi (m/s2): 9.81\n",
            "Masukkan asumsi nilai densitas air (kg/m3): 1000\n",
            "Density (Moist): 1991.30 kg/m³\n",
            "Density (Dry): 1769.57 kg/m³\n",
            "Water Content: 12.53 %\n",
            "Unit Weight (Moist): 19534.70 N/m³\n",
            "Unit Weight (Dry): 17359.43 N/m³\n",
            "Void Ratio: 0.51\n",
            "Porosity: 33.97 %\n",
            "Degree of Saturation (S): 65.27 %\n"
          ]
        }
      ],
      "source": [
        "from mmap import MAP_ANONYMOUS\n",
        "#TUGAS 1 - SI5102\n",
        "#Program Contoh Kasus Sederhana\n",
        "#Menghitung Indeks Properti Tanah\n",
        "\n",
        "###KAMUS\n",
        "# m             : int\n",
        "# m_dry         : int\n",
        "# V             : float\n",
        "# Gs            : float\n",
        "# density_water : int\n",
        "# g             : float\n",
        "#Data:\n",
        "# Moist mass        (m)             = 2290    gram  = 2.290 kg\n",
        "# Volume            (V)             = 0.00115 m3\n",
        "# Dry mass          (m_dry)         = 2035    gram  = 2.035 kg\n",
        "# Specific gravity  (Gs)            = 2.68\n",
        "#Assumption\n",
        "# water density     (density_water) = 1000    kg/m3\n",
        "# gravity           (g)             = 9.81    m/s2\n",
        "\n",
        "##ALGORITMA\n",
        "#input data\n",
        "m                 = float(input('Masukkan nilai massa tanah (kg): '))\n",
        "m_dry             = float(input('Masukkan nilai massa kering tanah (kg): '))\n",
        "V                 = float(input('Masukkan besar Volume tanah (m3): '))\n",
        "Gs                = float(input('Masukkan nilai Specific gravity: '))\n",
        "#input asumsi\n",
        "g                 = float(input('Masukkan asumsi nilai percepatan gravitasi (m/s2): '))\n",
        "density_water     = float(input('Masukkan asumsi nilai densitas air (kg/m3): '))\n",
        "\n",
        "\n",
        "#proses\n",
        "#1-Density: mass of the soil per unit volume (kg/m3)\n",
        "density           = m / V\n",
        "density_dry       = m_dry / V\n",
        "\n",
        "#2-Water content: ratio of the mass of water to the mass of dry soil (%)\n",
        "water_content     = ((m - m_dry) / m_dry )*100\n",
        "\n",
        "#3-Unit Weight: weight per unit volume (N/m3)\n",
        "unit_weight       = density * g\n",
        "unit_weight_dry   = density_dry * g\n",
        "\n",
        "#4-Void Ratio: Ratio of the volume of voids to the volume of solids\n",
        "#Volume of Solids\n",
        "V_solid           = m_dry / (Gs * density_water)\n",
        "#Volume of Voids\n",
        "V_void            = V - V_solid\n",
        "#void_ratio\n",
        "void_ratio        = V_void / V_solid\n",
        "\n",
        "#5-Porosity: ratio of the volume of voids to the total volume (%)\n",
        "porosity          = (V_void / V)*100\n",
        "\n",
        "#6-Degree of Saturation (S): ratio of the volume of water to the volume of voids\n",
        "#Volume of water\n",
        "V_water           = (m - m_dry) / density_water   #in m3\n",
        "S                 = (V_water / V_void) * 100      #in %\n",
        "\n",
        "#output with 2 decimal places and units\n",
        "print(f\"Density (Moist): {density:.2f} kg/m³\")\n",
        "print(f\"Density (Dry): {density_dry:.2f} kg/m³\")\n",
        "print(f\"Water Content: {water_content:.2f} %\")\n",
        "print(f\"Unit Weight (Moist): {unit_weight:.2f} N/m³\")\n",
        "print(f\"Unit Weight (Dry): {unit_weight_dry:.2f} N/m³\")\n",
        "print(f\"Void Ratio: {void_ratio:.2f}\")\n",
        "print(f\"Porosity: {porosity:.2f} %\")\n",
        "print(f\"Degree of Saturation (S): {S:.2f} %\")"
      ]
    }
  ]
}